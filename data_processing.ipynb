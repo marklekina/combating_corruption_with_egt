{
 "cells": [
  {
   "cell_type": "code",
   "execution_count": 1,
   "metadata": {},
   "outputs": [],
   "source": [
    "import json\n",
    "from pathlib import Path\n",
    "import numpy as np\n",
    "import pandas as pd\n",
    "import matplotlib.pyplot as plt"
   ]
  },
  {
   "cell_type": "code",
   "execution_count": 2,
   "metadata": {},
   "outputs": [],
   "source": [
    "path_to_data = 'data'\n",
    "path_to_metadata = 'metadata'\n",
    "\n",
    "path_to_wgi_data = f'{path_to_data}/wgi'\n",
    "path_to_wgi_metadata = f'{path_to_metadata}/wgi'\n",
    "\n",
    "path_to_cpi_data = f'{path_to_data}/cpi'\n",
    "path_to_cpi_metadata = f'{path_to_metadata}/cpi'"
   ]
  },
  {
   "cell_type": "code",
   "execution_count": 3,
   "metadata": {},
   "outputs": [],
   "source": [
    "wgi_paths = {\n",
    "    'country_metadata': f'{path_to_wgi_data}/country_metadata.csv',\n",
    "    'series_metadata': f'{path_to_wgi_data}/series_metadata.csv',\n",
    "    'wgi_sample_data': f'{path_to_wgi_data}/wgi_sample_data.csv',\n",
    "    'wgi_sample_metadata': f'{path_to_wgi_data}/wgi_sample_metadata.csv'\n",
    "}\n",
    "\n",
    "cpi_paths = {\n",
    "    'global_scores': f'{path_to_cpi_data}/global_scores.csv',\n",
    "    'historical_scores': f'{path_to_cpi_data}/historical_scores.csv',\n",
    "    'time_series': f'{path_to_cpi_data}/time_series.csv'\n",
    "}\n",
    "\n",
    "paths = {**wgi_paths, **cpi_paths}"
   ]
  },
  {
   "cell_type": "code",
   "execution_count": 4,
   "metadata": {},
   "outputs": [],
   "source": [
    "datasets = {}\n",
    "\n",
    "for name, path in paths.items():\n",
    "    df = pd.read_csv(path, header=0)\n",
    "    df_numeric = df.select_dtypes(include=[np.number]).fillna(0)\n",
    "    df_object = df.select_dtypes(include=[object]).fillna('')\n",
    "    df = pd.concat([df_object, df_numeric], axis=1)\n",
    "    datasets[name] = df"
   ]
  },
  {
   "cell_type": "code",
   "execution_count": 5,
   "metadata": {},
   "outputs": [],
   "source": [
    "def explore_data(name, metadata_path='', detail=False, write_to_file=True):\n",
    "    \"\"\"\n",
    "    Explore the dataset and save the metadata to a json file.\n",
    "    \"\"\"\n",
    "    data = datasets[name]\n",
    "    result = {\n",
    "        'Dataset': name,\n",
    "        'Shape': data.shape,\n",
    "        'Columns': data.columns.tolist()\n",
    "    }\n",
    "\n",
    "    if detail:\n",
    "        result.update({\n",
    "            'Head': data.head().to_dict(),\n",
    "            'Tail': data.tail().to_dict(),\n",
    "            'Describe': data.describe().to_dict(),\n",
    "        })\n",
    "\n",
    "    if write_to_file and metadata_path != '':\n",
    "        metadata_path = Path(metadata_path)\n",
    "        metadata_path.mkdir(parents=True, exist_ok=True)\n",
    "        \n",
    "        with open(Path(metadata_path, f'{name}.json'), 'w') as f:\n",
    "            json.dump(result, f, indent=4)\n",
    "    else:\n",
    "        print(json.dumps(result, indent=4))"
   ]
  },
  {
   "cell_type": "code",
   "execution_count": 6,
   "metadata": {},
   "outputs": [],
   "source": [
    "wgi_sample_cols = datasets['wgi_sample_data'].columns.tolist()\n",
    "wgi_indicators = [\n",
    "    \"Control of Corruption: Estimate\",\n",
    "    \"Government Effectiveness: Estimate\",\n",
    "    \"Rule of Law: Estimate\"\n",
    "]\n",
    "cpi_columns = [\n",
    "    \"Country / Territory\",\n",
    "    \"ISO3\",\n",
    "    \"CPI score\",\n",
    "    \"CPI Score\",\n",
    "    \"Rank\",\n",
    "    \"Year\",\n",
    "    \"Region\"\n",
    "]\n",
    "country_metadata_cols = [\n",
    "    \"Code\",\n",
    "    \"Long Name\",\n",
    "    \"Income Group\",\n",
    "    \"Region\"\n",
    "]\n",
    "\n",
    "relevant_columns = {\n",
    "    'country_metadata': country_metadata_cols,\n",
    "    'wgi_sample_data': wgi_sample_cols,\n",
    "    'wgi_sample_metadata': wgi_sample_cols,\n",
    "    'global_scores': cpi_columns,\n",
    "    'historical_scores': cpi_columns,\n",
    "    'time_series': cpi_columns\n",
    "}"
   ]
  },
  {
   "cell_type": "code",
   "execution_count": 7,
   "metadata": {},
   "outputs": [],
   "source": [
    "def subset(data, cols):\n",
    "    \"\"\"\n",
    "    Given a dataframe `data`, subset it to the columns that contain any of the `substrings`.\n",
    "    \"\"\"\n",
    "    matched_columns = [col for col in data.columns if any(sub in col for sub in cols)]\n",
    "    return data[matched_columns]"
   ]
  },
  {
   "cell_type": "code",
   "execution_count": 8,
   "metadata": {},
   "outputs": [],
   "source": [
    "for name, dataset in datasets.items():\n",
    "    if name in relevant_columns:\n",
    "        dataset_copy = subset(dataset, relevant_columns[name])\n",
    "        dataset_copy = dataset_copy.drop('IMD World Competitiveness Yearbook', axis=1, errors='ignore')\n",
    "        datasets[name] = dataset_copy"
   ]
  },
  {
   "cell_type": "code",
   "execution_count": 9,
   "metadata": {},
   "outputs": [],
   "source": [
    "for name in wgi_paths.keys():\n",
    "    explore_data(name, metadata_path=path_to_wgi_metadata, detail=True)\n",
    "for name in cpi_paths.keys():\n",
    "    explore_data(name, metadata_path=path_to_cpi_metadata, detail=True)"
   ]
  },
  {
   "cell_type": "code",
   "execution_count": 10,
   "metadata": {},
   "outputs": [
    {
     "name": "stdout",
     "output_type": "stream",
     "text": [
      "Sample data shape: (7704, 15)\n",
      "Sample metadata shape: (7704, 15)\n",
      "Combined WGI data shape: (7704, 15)\n"
     ]
    }
   ],
   "source": [
    "# WGI\n",
    "\n",
    "# Combine WGI dataframes and remove duplicates\n",
    "print(f'Sample data shape: {datasets[\"wgi_sample_data\"].shape}\\n'\n",
    "      f'Sample metadata shape: {datasets[\"wgi_sample_metadata\"].shape}')\n",
    "\n",
    "wgi_data = datasets['wgi_sample_data'].append(datasets['wgi_sample_metadata'])\n",
    "wgi_data = wgi_data.drop_duplicates()\n",
    "\n",
    "datasets['wgi_data'] = wgi_data\n",
    "explore_data('wgi_data', metadata_path=path_to_wgi_metadata, detail=True)\n",
    "\n",
    "print(f'Combined WGI data shape: {datasets[\"wgi_data\"].shape}')"
   ]
  },
  {
   "cell_type": "code",
   "execution_count": 11,
   "metadata": {},
   "outputs": [
    {
     "name": "stdout",
     "output_type": "stream",
     "text": [
      "Shape:\n",
      "  CPI: (181, 22)\n",
      "  WGI: (7704, 15)\n",
      "Columns:\n",
      "  CPI: Country / Territory, ISO3, Region, CPI Score 2023, Rank 2023, CPI Score 2022, Rank 2022, CPI Score 2021, Rank 2021, CPI Score 2020, Rank 2020, CPI Score 2019, Rank 2019, CPI Score 2018, Rank 2018, CPI Score 2017, Rank 2017, CPI Score 2016, CPI Score 2015, CPI Score 2014, CPI Score 2013, CPI Score 2012\n",
      "  WGI: Country Name, Country Code, Series Name, Series Code, 2022 [YR2022], 2021 [YR2021], 2020 [YR2020], 2019 [YR2019], 2018 [YR2018], 2017 [YR2017], 2016 [YR2016], 2015 [YR2015], 2014 [YR2014], 2013 [YR2013], 2012 [YR2012]\n",
      "\n"
     ]
    }
   ],
   "source": [
    "# CPI data\n",
    "\n",
    "# clean up column names\n",
    "cpi_data = datasets['time_series']\n",
    "cpi_data.columns = cpi_data.columns.str.replace('CPI score', 'CPI Score')\n",
    "\n",
    "cpi_cols = ', '.join(cpi_data.columns.tolist())\n",
    "wgi_cols = ', '.join(wgi_data.columns.tolist())\n",
    "\n",
    "print(f'Shape:\\n'\n",
    "      f'  CPI: {cpi_data.shape}\\n'\n",
    "      f'  WGI: {wgi_data.shape}\\n'\n",
    "      f'Columns:\\n'\n",
    "      f'  CPI: {cpi_cols}\\n'\n",
    "      f'  WGI: {wgi_cols}\\n')"
   ]
  },
  {
   "cell_type": "code",
   "execution_count": 12,
   "metadata": {},
   "outputs": [],
   "source": [
    "merged_data = cpi_data.merge(wgi_data, left_on='Country / Territory', right_on='Country Name')\n",
    "merged_cols = ', '.join(wgi_data.columns.tolist())"
   ]
  },
  {
   "cell_type": "code",
   "execution_count": 13,
   "metadata": {},
   "outputs": [
    {
     "name": "stdout",
     "output_type": "stream",
     "text": [
      "Shape:\n",
      "  Merged dataset: (5724, 37)\n",
      "Columns:\n",
      "  Merged dataset: Country Name, Country Code, Series Name, Series Code, 2022 [YR2022], 2021 [YR2021], 2020 [YR2020], 2019 [YR2019], 2018 [YR2018], 2017 [YR2017], 2016 [YR2016], 2015 [YR2015], 2014 [YR2014], 2013 [YR2013], 2012 [YR2012]\n",
      "\n"
     ]
    }
   ],
   "source": [
    "print(f'Shape:\\n'\n",
    "      f'  Merged dataset: {merged_data.shape}\\n'\n",
    "      f'Columns:\\n'\n",
    "      f'  Merged dataset: {merged_cols}\\n')"
   ]
  },
  {
   "cell_type": "code",
   "execution_count": 14,
   "metadata": {},
   "outputs": [],
   "source": [
    "datasets['merged_data'] = merged_data\n",
    "explore_data('merged_data', metadata_path=f'{path_to_metadata}/merged', detail=True)"
   ]
  },
  {
   "cell_type": "code",
   "execution_count": 15,
   "metadata": {},
   "outputs": [],
   "source": [
    "# Save the merged data to a csv file\n",
    "merged_data_path = Path(f'{path_to_data}/merged_data')\n",
    "merged_data_path.mkdir(parents=True, exist_ok=True)\n",
    "\n",
    "merged_data.to_csv(f'{merged_data_path}/merged_data.csv', index=False)"
   ]
  }
 ],
 "metadata": {
  "kernelspec": {
   "display_name": "Python 3 (ipykernel)",
   "language": "python",
   "name": "python3"
  },
  "language_info": {
   "codemirror_mode": {
    "name": "ipython",
    "version": 3
   },
   "file_extension": ".py",
   "mimetype": "text/x-python",
   "name": "python",
   "nbconvert_exporter": "python",
   "pygments_lexer": "ipython3",
   "version": "3.9.4"
  }
 },
 "nbformat": 4,
 "nbformat_minor": 2
}
