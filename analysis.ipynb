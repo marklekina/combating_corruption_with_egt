{
 "cells": [
  {
   "cell_type": "markdown",
   "metadata": {},
   "source": [
    "# Analysis"
   ]
  },
  {
   "cell_type": "markdown",
   "metadata": {},
   "source": [
    "## Set up"
   ]
  },
  {
   "cell_type": "code",
   "execution_count": 1,
   "metadata": {},
   "outputs": [],
   "source": [
    "import json\n",
    "import random\n",
    "from pathlib import Path\n",
    "import numpy as np\n",
    "import pandas as pd\n",
    "import matplotlib.pyplot as plt"
   ]
  },
  {
   "cell_type": "markdown",
   "metadata": {},
   "source": [
    "## Data preparation"
   ]
  },
  {
   "cell_type": "code",
   "execution_count": 2,
   "metadata": {},
   "outputs": [
    {
     "name": "stdout",
     "output_type": "stream",
     "text": [
      "['Country Name', 'ISO3', 'Region', 'CPI Score 2023', 'CPI Score 2022', 'CPI Score 2021', 'CPI Score 2020', 'CPI Score 2019', 'CPI Score 2018', 'CPI Score 2017', 'CPI Score 2016', 'CPI Score 2015', 'CPI Score 2014', 'CPI Score 2013', 'CPI Score 2012', 'Rank 2023', 'Rank 2022', 'Rank 2021', 'Rank 2020', 'Rank 2019', 'Rank 2018', 'Rank 2017', 'WGI Indicator Name', 'WGI Indicator Code', '2022', '2021', '2020', '2019', '2018', '2017', '2016', '2015', '2014', '2013', '2012']\n",
      "(5724, 35)\n"
     ]
    }
   ],
   "source": [
    "# load the data\n",
    "data_path = 'data/merged_data/merged_data.csv'\n",
    "data = pd.read_csv(data_path, header=0)\n",
    "\n",
    "print(data.columns.tolist())\n",
    "print(data.shape)"
   ]
  },
  {
   "cell_type": "code",
   "execution_count": 3,
   "metadata": {},
   "outputs": [
    {
     "name": "stdout",
     "output_type": "stream",
     "text": [
      "(954, 35)\n",
      "['Control of Corruption: Estimate' 'Government Effectiveness: Estimate'\n",
      " 'Political Stability and Absence of Violence/Terrorism: Estimate'\n",
      " 'Regulatory Quality: Estimate' 'Rule of Law: Estimate'\n",
      " 'Voice and Accountability: Estimate']\n"
     ]
    }
   ],
   "source": [
    "# subset the data to only include the indicators containing ': Estimate'\n",
    "data = data[data['WGI Indicator Name'].str.contains(': Estimate')]\n",
    "print(data.shape)\n",
    "\n",
    "indicators = data['WGI Indicator Name'].unique()\n",
    "print(indicators)"
   ]
  },
  {
   "cell_type": "code",
   "execution_count": 4,
   "metadata": {},
   "outputs": [
    {
     "data": {
      "text/plain": [
       "['Somalia',\n",
       " 'South Sudan',\n",
       " 'Nicaragua',\n",
       " 'Equatorial Guinea',\n",
       " 'Haiti',\n",
       " 'Turkmenistan',\n",
       " 'Libya',\n",
       " 'Afghanistan',\n",
       " 'Tajikistan',\n",
       " 'Sudan',\n",
       " 'Chad',\n",
       " 'Myanmar',\n",
       " 'Burundi',\n",
       " 'Comoros',\n",
       " 'Eritrea',\n",
       " 'Cambodia',\n",
       " 'Guatemala',\n",
       " 'Honduras',\n",
       " 'Iraq',\n",
       " 'Azerbaijan',\n",
       " 'Central African Republic',\n",
       " 'Lebanon',\n",
       " 'Zimbabwe',\n",
       " 'Bangladesh',\n",
       " 'Liberia',\n",
       " 'Madagascar',\n",
       " 'Mozambique',\n",
       " 'Nigeria',\n",
       " 'Guinea',\n",
       " 'Uganda',\n",
       " 'Cameroon']"
      ]
     },
     "execution_count": 4,
     "metadata": {},
     "output_type": "execute_result"
    }
   ],
   "source": [
    "# TODO: maybe don't subset just yet?\n",
    "# subset to the 20% most corrupt countries according to the Corruption Perception Index ranking in 2023\n",
    "num_countries = int(0.2 * len(data['Country Name'].unique()))\n",
    "subset = data[['Country Name', 'Rank 2023']].drop_duplicates().sort_values(by='Rank 2023', ascending=False).head(num_countries)\n",
    "corrupt_countries = list(subset['Country Name'])\n",
    "corrupt_countries\n",
    "# data = data[data['Country / Territory'].isin(corrupt_countries)]\n",
    "# data.head()"
   ]
  },
  {
   "cell_type": "code",
   "execution_count": 5,
   "metadata": {},
   "outputs": [],
   "source": [
    "def normalize_column(column):\n",
    "    \"\"\"Normalizes a column by subtracting the mean and dividing by the standard deviation.\"\"\"\n",
    "    mean = column.mean()\n",
    "    std = column.std()\n",
    "    return (column - mean) / std"
   ]
  },
  {
   "cell_type": "code",
   "execution_count": 6,
   "metadata": {},
   "outputs": [],
   "source": [
    "cpi_score_cols = data.columns[data.columns.str.contains('CPI Score')]\n",
    "\n",
    "# apply normalization to each CPI column\n",
    "for col in cpi_score_cols:\n",
    "    data[col] = normalize_column(data[col])"
   ]
  },
  {
   "cell_type": "markdown",
   "metadata": {},
   "source": [
    "## Model construction"
   ]
  },
  {
   "cell_type": "code",
   "execution_count": 7,
   "metadata": {},
   "outputs": [],
   "source": [
    "# define the players (countries)\n",
    "players = data['Country Name'].unique().tolist()\n",
    "\n",
    "# define strategies: Corrupt (C) and Non-Corrupt (NC)\n",
    "strategies = ['C', 'NC']\n",
    "\n",
    "# define payoffs\n",
    "# for PoC, we define some hypothetical payoffs. These should ideally be derived from data.\n",
    "#          Payoff matrix:\n",
    "#          --------------------------------\n",
    "#               |    C       | NC       |\n",
    "#          --------------------------------\n",
    "#           C   | (b-c, b-c) | (b, 0)   |\n",
    "#           NC  | (0, b)     | (d, d)   |\n",
    "\n",
    "b = random.randint(1, 10)   # benefit from corrupt strategy\n",
    "c = random.randint(1, 10)   # cost of corrupt strategy\n",
    "d = random.randint(1, 10)   # benefit from non-corrupt strategy\n",
    "\n",
    "payoff_matrix = {\n",
    "    ('C', 'C'): (b-c, b-c),\n",
    "    ('C', 'NC'): (b, 0),\n",
    "    ('NC', 'C'): (0, b),\n",
    "    ('NC', 'NC'): (d, d)\n",
    "}"
   ]
  },
  {
   "cell_type": "code",
   "execution_count": 8,
   "metadata": {},
   "outputs": [
    {
     "name": "stdout",
     "output_type": "stream",
     "text": [
      "Shape:\n",
      "  Indicators dataset: (159, 7)\n",
      "Columns:\n",
      "  Indicators dataset: Index(['Country Name', 'Control of Corruption: Estimate',\n",
      "       'Government Effectiveness: Estimate',\n",
      "       'Political Stability and Absence of Violence/Terrorism: Estimate',\n",
      "       'Regulatory Quality: Estimate', 'Rule of Law: Estimate',\n",
      "       'Voice and Accountability: Estimate'],\n",
      "      dtype='object', name='WGI Indicator Name')\n",
      "\n"
     ]
    }
   ],
   "source": [
    "# extract WGI indicators for 2022 and convert from long to wide format\n",
    "indicators_data = data[['Country Name', 'WGI Indicator Name', '2022']].drop_duplicates()\n",
    "indicators_data = indicators_data.pivot(index='Country Name', columns='WGI Indicator Name', values='2022')\n",
    "indicators_data = indicators_data.reset_index()\n",
    "\n",
    "print(f'Shape:\\n'\n",
    "      f'  Indicators dataset: {indicators_data.shape}\\n'\n",
    "      f'Columns:\\n'\n",
    "      f'  Indicators dataset: {indicators_data.columns}\\n')"
   ]
  },
  {
   "cell_type": "markdown",
   "metadata": {},
   "source": [
    "- For policies that increase penalties or enforce the rule of law, the indicator value is added to `c` to reflect increased costs of corruption.\n",
    "- For policies that improve government services, enhance regulatory frameworks, or promote democratic participation, the indicator value is added to `d` to reflect increased benefits of non-corrupt behavior.\n",
    "- For policies that strengthen political stability, the indicator value is added to `b` to reflect increased overall benefits in a stable political environment."
   ]
  },
  {
   "cell_type": "code",
   "execution_count": 9,
   "metadata": {},
   "outputs": [],
   "source": [
    "# define policy intervention to indicator mapping\n",
    "policy_indicator_mapping = {\n",
    "    'Increase Penalties': 'Control of Corruption: Estimate',\n",
    "    'Improve Government Services': 'Government Effectiveness: Estimate',\n",
    "    'Strengthen Political Stability': 'Political Stability and Absence of Violence/Terrorism: Estimate',\n",
    "    'Enhance Regulatory Framework': 'Regulatory Quality: Estimate',\n",
    "    'Enforce Rule of Law': 'Rule of Law: Estimate',\n",
    "    'Promote Democratic Participation': 'Voice and Accountability: Estimate'\n",
    "}\n",
    "\n",
    "# define policy interventions and whether we add or subtract the indicator value\n",
    "policy_interventions = [\n",
    "    ('Increase Penalties', 'c'),                # increase penalties for corruption\n",
    "    ('Improve Government Services', 'd'),       # improve government services\n",
    "    ('Strengthen Political Stability', 'b'),    # reduce the benefit of corruption\n",
    "    ('Enhance Regulatory Framework', 'd'),      # enhance regulatory quality\n",
    "    ('Enforce Rule of Law', 'c'),               # enforce rule of law\n",
    "    ('Promote Democratic Participation', 'd')   # promote democratic participation\n",
    "]"
   ]
  },
  {
   "cell_type": "markdown",
   "metadata": {},
   "source": [
    "## Policy simulation"
   ]
  },
  {
   "cell_type": "code",
   "execution_count": 10,
   "metadata": {},
   "outputs": [],
   "source": [
    "def simulate_policy(policy, num_iterations=100):\n",
    "    \"\"\"Simulate the evolution of strategies over time given a policy intervention.\"\"\"\n",
    "    results = {}\n",
    "\n",
    "    # initialize params\n",
    "    b_new, c_new, d_new = b, c, d\n",
    "    policy_name, param = policy\n",
    "    column = policy_indicator_mapping[policy_name]\n",
    "\n",
    "    for country in players:\n",
    "        indicator_value = indicators_data[indicators_data['Country Name'] == country][column].values[0]\n",
    "        if param == 'b':\n",
    "            b_new += indicator_value\n",
    "        elif param == 'c':\n",
    "            c_new += indicator_value\n",
    "        elif param == 'd':\n",
    "            d_new += indicator_value\n",
    "    \n",
    "        new_payoff_matrix = {\n",
    "            ('C', 'C'): (b_new-c_new, b_new-c_new),\n",
    "            ('C', 'NC'): (b_new, 0),\n",
    "            ('NC', 'C'): (0, b_new),\n",
    "            ('NC', 'NC'): (d_new, d_new)\n",
    "        }\n",
    "        # random initial strategy distribution\n",
    "        strategy_distribution = {'C': np.random.uniform(0, 1), 'NC': np.random.uniform(0, 1)}\n",
    "        total_initial = strategy_distribution['C'] + strategy_distribution['NC']\n",
    "        strategy_distribution = {k: v/total_initial for k, v in strategy_distribution.items()}        \n",
    "\n",
    "        # simulate the evolution of strategies over time\n",
    "        for _ in range(num_iterations):\n",
    "            next_distribution = {'C': 0, 'NC': 0}\n",
    "            for strategy in strategies:\n",
    "                for opponent_strategy in strategies:\n",
    "                    payoff = new_payoff_matrix[(strategy, opponent_strategy)]\n",
    "                    next_distribution[strategy] += strategy_distribution[opponent_strategy] * payoff[strategy == 'NC']\n",
    "            total = sum(next_distribution.values())\n",
    "            if total == 0:\n",
    "                next_distribution = {'C': 0.5, 'NC': 0.5}\n",
    "            else:\n",
    "                next_distribution = {k: v/total for k, v in next_distribution.items()}\n",
    "            strategy_distribution = next_distribution\n",
    "        results[country] = strategy_distribution\n",
    "    \n",
    "    return results"
   ]
  },
  {
   "cell_type": "code",
   "execution_count": 11,
   "metadata": {},
   "outputs": [],
   "source": [
    "# define path for analysis results\n",
    "results_path = Path('results')\n",
    "results_path.mkdir(parents=True, exist_ok=True)"
   ]
  },
  {
   "cell_type": "code",
   "execution_count": 12,
   "metadata": {},
   "outputs": [],
   "source": [
    "# apply each policy and store the results\n",
    "simulation_results = {}\n",
    "for policy_intervention in policy_interventions:\n",
    "    simulation_results[policy_intervention[0]] = simulate_policy(policy_intervention)\n",
    "\n",
    "# save the simulation results to a JSON file\n",
    "simulation_results_path = f'{results_path}/simulation_results.json'\n",
    "with open(simulation_results_path, 'w') as f:\n",
    "    json.dump(simulation_results, f, indent=4)"
   ]
  },
  {
   "cell_type": "markdown",
   "metadata": {},
   "source": [
    "## Validate results"
   ]
  },
  {
   "cell_type": "code",
   "execution_count": 13,
   "metadata": {},
   "outputs": [],
   "source": [
    "def normalize_simulated_cpi(simulated_cpi, real_cpi_mean, real_cpi_std):\n",
    "    \"\"\"Normalize the simulated CPI scores based on the real-world data.\"\"\"\n",
    "    return (simulated_cpi - real_cpi_mean) / real_cpi_std"
   ]
  },
  {
   "cell_type": "code",
   "execution_count": 14,
   "metadata": {},
   "outputs": [],
   "source": [
    "def validate_results(simulation_results, val_scores):\n",
    "    \"\"\"Validate the simulation results against real-world data.\"\"\"\n",
    "    validation_results = {}\n",
    "\n",
    "    # compute the mean and standard deviation of the real CPI scores\n",
    "    real_cpi_mean = val_scores['CPI Score 2023'].mean()\n",
    "    real_cpi_std = val_scores['CPI Score 2023'].std()\n",
    "\n",
    "    for policy_name, results in simulation_results.items():\n",
    "        correlation = {}\n",
    "        for country, distribution in results.items():\n",
    "            if country in val_scores.index:\n",
    "                real_cpi = val_scores.loc[country, 'CPI Score 2023']\n",
    "                simulated_cpi = distribution['NC']  # assuming NC strategy correlates with higher CPI scores\n",
    "                normalized_simulated_cpi = normalize_simulated_cpi(simulated_cpi, real_cpi_mean, real_cpi_std)\n",
    "                correlation[country] = (real_cpi, normalized_simulated_cpi)\n",
    "        \n",
    "        validation_results[policy_name] = correlation\n",
    "    return validation_results"
   ]
  },
  {
   "cell_type": "code",
   "execution_count": 15,
   "metadata": {},
   "outputs": [
    {
     "name": "stdout",
     "output_type": "stream",
     "text": [
      "Correlation coefficient for different policy interventions:\n",
      "  Increase Penalties: 0.1194650558539891\n",
      "  Improve Government Services: 0.03871325868745889\n",
      "  Strengthen Political Stability: -0.014465257093015941\n",
      "  Enhance Regulatory Framework: 0.1980362587393781\n",
      "  Enforce Rule of Law: 0.1274272886284593\n",
      "  Promote Democratic Participation: 0.04806013446498635\n"
     ]
    }
   ],
   "source": [
    "# extract real-world data (CPI scores) for validation\n",
    "val_scores = data[['Country Name', 'CPI Score 2023']].drop_duplicates().set_index('Country Name')\n",
    "validation_results = validate_results(simulation_results, val_scores=val_scores)\n",
    "\n",
    "# calculate statistical measures (e.g., correlation coefficient) for validation\n",
    "print(f'Correlation coefficient for different policy interventions:')\n",
    "for policy_name, correlations in validation_results.items():\n",
    "    real_cpis, normalized_simulated_cpis = zip(*correlations.values())\n",
    "    correlation_coefficient = np.corrcoef(real_cpis, normalized_simulated_cpis)[0, 1]\n",
    "    print(f'  {policy_name}: {correlation_coefficient}')"
   ]
  },
  {
   "cell_type": "markdown",
   "metadata": {},
   "source": [
    "## Visualization"
   ]
  },
  {
   "cell_type": "code",
   "execution_count": 16,
   "metadata": {},
   "outputs": [],
   "source": [
    "def plot_policy_impact(simulation_results, original_data, real_cpi_mean, real_cpi_std, path_to_save):\n",
    "    for policy_name, simulated_data in simulation_results.items():\n",
    "        countries = list(simulated_data.keys())\n",
    "        nc_strategies = [simulated_data[country]['NC'] for country in countries]\n",
    "        real_cpis = [original_data.loc[country, 'CPI Score 2023'] for country in countries if country in original_data.index]\n",
    "        \n",
    "        normalized_nc_strategies = [(nc - real_cpi_mean) / real_cpi_std for nc in nc_strategies]\n",
    "        \n",
    "        plt.figure(figsize=(10, 6))\n",
    "        plt.scatter(real_cpis, normalized_nc_strategies)\n",
    "        plt.plot([min(real_cpis), max(real_cpis)], [min(real_cpis), max(real_cpis)], 'r--')\n",
    "        plt.xlabel('Real CPI Scores')\n",
    "        plt.ylabel('Normalized Simulated NC Strategy Proportion')\n",
    "        plt.title(f'Simulation Results for Policy: {policy_name}')\n",
    "        \n",
    "        plt.savefig(f'{path_to_save}/{policy_name}.png')\n",
    "        plt.close()"
   ]
  },
  {
   "cell_type": "code",
   "execution_count": 17,
   "metadata": {},
   "outputs": [],
   "source": [
    "real_cpi_mean = val_scores['CPI Score 2023'].mean()\n",
    "real_cpi_std = val_scores['CPI Score 2023'].std()\n",
    "\n",
    "path_to_save = Path('results', 'plots')\n",
    "path_to_save.mkdir(parents=True, exist_ok=True)\n",
    "\n",
    "plot_policy_impact(simulation_results, val_scores, real_cpi_mean, real_cpi_std, path_to_save)"
   ]
  }
 ],
 "metadata": {
  "kernelspec": {
   "display_name": "Python 3 (ipykernel)",
   "language": "python",
   "name": "python3"
  },
  "language_info": {
   "codemirror_mode": {
    "name": "ipython",
    "version": 3
   },
   "file_extension": ".py",
   "mimetype": "text/x-python",
   "name": "python",
   "nbconvert_exporter": "python",
   "pygments_lexer": "ipython3",
   "version": "3.9.4"
  }
 },
 "nbformat": 4,
 "nbformat_minor": 2
}
