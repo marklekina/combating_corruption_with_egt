{
 "cells": [
  {
   "cell_type": "markdown",
   "metadata": {},
   "source": [
    "# Analysis"
   ]
  },
  {
   "cell_type": "markdown",
   "metadata": {},
   "source": [
    "## Set up"
   ]
  },
  {
   "cell_type": "code",
   "execution_count": 1,
   "metadata": {},
   "outputs": [],
   "source": [
    "import json\n",
    "from pathlib import Path\n",
    "import numpy as np\n",
    "import pandas as pd\n",
    "import matplotlib.pyplot as plt"
   ]
  },
  {
   "cell_type": "markdown",
   "metadata": {},
   "source": [
    "## Data preparation"
   ]
  },
  {
   "cell_type": "code",
   "execution_count": 2,
   "metadata": {},
   "outputs": [
    {
     "name": "stdout",
     "output_type": "stream",
     "text": [
      "['Country / Territory', 'ISO3', 'Region', 'CPI Score 2023', 'Rank 2023', 'CPI Score 2022', 'Rank 2022', 'CPI Score 2021', 'Rank 2021', 'CPI Score 2020', 'Rank 2020', 'CPI Score 2019', 'Rank 2019', 'CPI Score 2018', 'Rank 2018', 'CPI Score 2017', 'Rank 2017', 'CPI Score 2016', 'CPI Score 2015', 'CPI Score 2014', 'CPI Score 2013', 'CPI Score 2012', 'Country Name', 'Country Code', 'Series Name', 'Series Code', '2022 [YR2022]', '2021 [YR2021]', '2020 [YR2020]', '2019 [YR2019]', '2018 [YR2018]', '2017 [YR2017]', '2016 [YR2016]', '2015 [YR2015]', '2014 [YR2014]', '2013 [YR2013]', '2012 [YR2012]']\n",
      "(5724, 37)\n"
     ]
    }
   ],
   "source": [
    "# load the data\n",
    "data_path = 'data/merged_data/merged_data.csv'\n",
    "data = pd.read_csv(data_path, header=0)\n",
    "\n",
    "print(data.columns.tolist())\n",
    "print(data.shape)"
   ]
  },
  {
   "cell_type": "code",
   "execution_count": 3,
   "metadata": {},
   "outputs": [
    {
     "name": "stdout",
     "output_type": "stream",
     "text": [
      "(954, 37)\n",
      "['Control of Corruption: Estimate' 'Government Effectiveness: Estimate'\n",
      " 'Political Stability and Absence of Violence/Terrorism: Estimate'\n",
      " 'Regulatory Quality: Estimate' 'Rule of Law: Estimate'\n",
      " 'Voice and Accountability: Estimate']\n"
     ]
    }
   ],
   "source": [
    "# subset the data to only include the indicators containing ': Estimate'\n",
    "data = data[data['Series Name'].str.contains(': Estimate')]\n",
    "print(data.shape)\n",
    "\n",
    "indicators = data['Series Name'].unique()\n",
    "print(indicators)"
   ]
  },
  {
   "cell_type": "code",
   "execution_count": 4,
   "metadata": {},
   "outputs": [],
   "source": [
    "# subset to the 20% most corrupt countries according to the Corruption Perception Index ranking in 2023\n",
    "num_countries = int(0.2 * len(data['Country / Territory'].unique()))"
   ]
  },
  {
   "cell_type": "code",
   "execution_count": 5,
   "metadata": {},
   "outputs": [
    {
     "data": {
      "text/html": [
       "<div>\n",
       "<style scoped>\n",
       "    .dataframe tbody tr th:only-of-type {\n",
       "        vertical-align: middle;\n",
       "    }\n",
       "\n",
       "    .dataframe tbody tr th {\n",
       "        vertical-align: top;\n",
       "    }\n",
       "\n",
       "    .dataframe thead th {\n",
       "        text-align: right;\n",
       "    }\n",
       "</style>\n",
       "<table border=\"1\" class=\"dataframe\">\n",
       "  <thead>\n",
       "    <tr style=\"text-align: right;\">\n",
       "      <th></th>\n",
       "      <th>Country / Territory</th>\n",
       "      <th>ISO3</th>\n",
       "      <th>Region</th>\n",
       "      <th>CPI Score 2023</th>\n",
       "      <th>Rank 2023</th>\n",
       "      <th>CPI Score 2022</th>\n",
       "      <th>Rank 2022</th>\n",
       "      <th>CPI Score 2021</th>\n",
       "      <th>Rank 2021</th>\n",
       "      <th>CPI Score 2020</th>\n",
       "      <th>...</th>\n",
       "      <th>2021 [YR2021]</th>\n",
       "      <th>2020 [YR2020]</th>\n",
       "      <th>2019 [YR2019]</th>\n",
       "      <th>2018 [YR2018]</th>\n",
       "      <th>2017 [YR2017]</th>\n",
       "      <th>2016 [YR2016]</th>\n",
       "      <th>2015 [YR2015]</th>\n",
       "      <th>2014 [YR2014]</th>\n",
       "      <th>2013 [YR2013]</th>\n",
       "      <th>2012 [YR2012]</th>\n",
       "    </tr>\n",
       "  </thead>\n",
       "  <tbody>\n",
       "    <tr>\n",
       "      <th>0</th>\n",
       "      <td>Afghanistan</td>\n",
       "      <td>AFG</td>\n",
       "      <td>AP</td>\n",
       "      <td>20.0</td>\n",
       "      <td>162.0</td>\n",
       "      <td>24.0</td>\n",
       "      <td>150.0</td>\n",
       "      <td>16.0</td>\n",
       "      <td>174.0</td>\n",
       "      <td>19.0</td>\n",
       "      <td>...</td>\n",
       "      <td>-1.152327</td>\n",
       "      <td>-1.493700</td>\n",
       "      <td>-1.419499</td>\n",
       "      <td>-1.502881</td>\n",
       "      <td>-1.531910</td>\n",
       "      <td>-1.540353</td>\n",
       "      <td>-1.354240</td>\n",
       "      <td>-1.364743</td>\n",
       "      <td>-1.445908</td>\n",
       "      <td>-1.430373</td>\n",
       "    </tr>\n",
       "    <tr>\n",
       "      <th>6</th>\n",
       "      <td>Afghanistan</td>\n",
       "      <td>AFG</td>\n",
       "      <td>AP</td>\n",
       "      <td>20.0</td>\n",
       "      <td>162.0</td>\n",
       "      <td>24.0</td>\n",
       "      <td>150.0</td>\n",
       "      <td>16.0</td>\n",
       "      <td>174.0</td>\n",
       "      <td>19.0</td>\n",
       "      <td>...</td>\n",
       "      <td>-1.669562</td>\n",
       "      <td>-1.609509</td>\n",
       "      <td>-1.518614</td>\n",
       "      <td>-1.501345</td>\n",
       "      <td>-1.388972</td>\n",
       "      <td>-1.290253</td>\n",
       "      <td>-1.396184</td>\n",
       "      <td>-1.359305</td>\n",
       "      <td>-1.399491</td>\n",
       "      <td>-1.375535</td>\n",
       "    </tr>\n",
       "    <tr>\n",
       "      <th>12</th>\n",
       "      <td>Afghanistan</td>\n",
       "      <td>AFG</td>\n",
       "      <td>AP</td>\n",
       "      <td>20.0</td>\n",
       "      <td>162.0</td>\n",
       "      <td>24.0</td>\n",
       "      <td>150.0</td>\n",
       "      <td>16.0</td>\n",
       "      <td>174.0</td>\n",
       "      <td>19.0</td>\n",
       "      <td>...</td>\n",
       "      <td>-2.518530</td>\n",
       "      <td>-2.702632</td>\n",
       "      <td>-2.652407</td>\n",
       "      <td>-2.753262</td>\n",
       "      <td>-2.794974</td>\n",
       "      <td>-2.662156</td>\n",
       "      <td>-2.562625</td>\n",
       "      <td>-2.411068</td>\n",
       "      <td>-2.519349</td>\n",
       "      <td>-2.418561</td>\n",
       "    </tr>\n",
       "    <tr>\n",
       "      <th>18</th>\n",
       "      <td>Afghanistan</td>\n",
       "      <td>AFG</td>\n",
       "      <td>AP</td>\n",
       "      <td>20.0</td>\n",
       "      <td>162.0</td>\n",
       "      <td>24.0</td>\n",
       "      <td>150.0</td>\n",
       "      <td>16.0</td>\n",
       "      <td>174.0</td>\n",
       "      <td>19.0</td>\n",
       "      <td>...</td>\n",
       "      <td>-1.311682</td>\n",
       "      <td>-1.389163</td>\n",
       "      <td>-1.113778</td>\n",
       "      <td>-1.138204</td>\n",
       "      <td>-1.369763</td>\n",
       "      <td>-1.339695</td>\n",
       "      <td>-1.018826</td>\n",
       "      <td>-1.124134</td>\n",
       "      <td>-1.193090</td>\n",
       "      <td>-1.192580</td>\n",
       "    </tr>\n",
       "    <tr>\n",
       "      <th>24</th>\n",
       "      <td>Afghanistan</td>\n",
       "      <td>AFG</td>\n",
       "      <td>AP</td>\n",
       "      <td>20.0</td>\n",
       "      <td>162.0</td>\n",
       "      <td>24.0</td>\n",
       "      <td>150.0</td>\n",
       "      <td>16.0</td>\n",
       "      <td>174.0</td>\n",
       "      <td>19.0</td>\n",
       "      <td>...</td>\n",
       "      <td>-1.876357</td>\n",
       "      <td>-1.831374</td>\n",
       "      <td>-1.741319</td>\n",
       "      <td>-1.688587</td>\n",
       "      <td>-1.583737</td>\n",
       "      <td>-1.520714</td>\n",
       "      <td>-1.515203</td>\n",
       "      <td>-1.437045</td>\n",
       "      <td>-1.609112</td>\n",
       "      <td>-1.651893</td>\n",
       "    </tr>\n",
       "  </tbody>\n",
       "</table>\n",
       "<p>5 rows × 37 columns</p>\n",
       "</div>"
      ],
      "text/plain": [
       "   Country / Territory ISO3 Region  CPI Score 2023  Rank 2023  CPI Score 2022  \\\n",
       "0          Afghanistan  AFG     AP            20.0      162.0            24.0   \n",
       "6          Afghanistan  AFG     AP            20.0      162.0            24.0   \n",
       "12         Afghanistan  AFG     AP            20.0      162.0            24.0   \n",
       "18         Afghanistan  AFG     AP            20.0      162.0            24.0   \n",
       "24         Afghanistan  AFG     AP            20.0      162.0            24.0   \n",
       "\n",
       "    Rank 2022  CPI Score 2021  Rank 2021  CPI Score 2020  ...  2021 [YR2021]  \\\n",
       "0       150.0            16.0      174.0            19.0  ...      -1.152327   \n",
       "6       150.0            16.0      174.0            19.0  ...      -1.669562   \n",
       "12      150.0            16.0      174.0            19.0  ...      -2.518530   \n",
       "18      150.0            16.0      174.0            19.0  ...      -1.311682   \n",
       "24      150.0            16.0      174.0            19.0  ...      -1.876357   \n",
       "\n",
       "    2020 [YR2020]  2019 [YR2019]  2018 [YR2018]  2017 [YR2017]  2016 [YR2016]  \\\n",
       "0       -1.493700      -1.419499      -1.502881      -1.531910      -1.540353   \n",
       "6       -1.609509      -1.518614      -1.501345      -1.388972      -1.290253   \n",
       "12      -2.702632      -2.652407      -2.753262      -2.794974      -2.662156   \n",
       "18      -1.389163      -1.113778      -1.138204      -1.369763      -1.339695   \n",
       "24      -1.831374      -1.741319      -1.688587      -1.583737      -1.520714   \n",
       "\n",
       "    2015 [YR2015]  2014 [YR2014]  2013 [YR2013]  2012 [YR2012]  \n",
       "0       -1.354240      -1.364743      -1.445908      -1.430373  \n",
       "6       -1.396184      -1.359305      -1.399491      -1.375535  \n",
       "12      -2.562625      -2.411068      -2.519349      -2.418561  \n",
       "18      -1.018826      -1.124134      -1.193090      -1.192580  \n",
       "24      -1.515203      -1.437045      -1.609112      -1.651893  \n",
       "\n",
       "[5 rows x 37 columns]"
      ]
     },
     "execution_count": 5,
     "metadata": {},
     "output_type": "execute_result"
    }
   ],
   "source": [
    "subset = data[['Country Name', 'Rank 2023']].drop_duplicates().sort_values(by='Rank 2023', ascending=False).head(num_countries)\n",
    "corrupt_countries = subset['Country Name'].tolist()\n",
    "\n",
    "data = data[data['Country / Territory'].isin(corrupt_countries)]\n",
    "data.head()"
   ]
  },
  {
   "cell_type": "code",
   "execution_count": 6,
   "metadata": {},
   "outputs": [],
   "source": [
    "def normalize_column(column):\n",
    "    \"\"\"Normalizes a column by subtracting the mean and dividing by the standard deviation.\"\"\"\n",
    "    mean = column.mean()\n",
    "    std = column.std()\n",
    "    return (column - mean) / std"
   ]
  },
  {
   "cell_type": "code",
   "execution_count": 7,
   "metadata": {},
   "outputs": [],
   "source": [
    "cpi_score_cols = data.columns[data.columns.str.contains('CPI Score')]\n",
    "data[cpi_score_cols].describe()\n",
    "\n",
    "# apply normalization to each CPI column\n",
    "for col in cpi_score_cols:\n",
    "    data[col] = normalize_column(data[col])"
   ]
  },
  {
   "cell_type": "markdown",
   "metadata": {},
   "source": [
    "## Model construction"
   ]
  },
  {
   "cell_type": "code",
   "execution_count": 8,
   "metadata": {},
   "outputs": [],
   "source": [
    "# define the players (countries)\n",
    "players = data['Country / Territory'].unique().tolist()\n",
    "\n",
    "# define strategies: Corrupt (C) and Non-Corrupt (NC)\n",
    "strategies = ['C', 'NC']\n",
    "\n",
    "# define payoffs\n",
    "# for PoC, we define some hypothetical payoffs. These should ideally be derived from data.\n",
    "#          Payoff matrix:\n",
    "#          --------------------------------\n",
    "#               |    C       | NC       |\n",
    "#          --------------------------------\n",
    "#           C   | (b-c, b-c) | (b, 0)   |\n",
    "#           NC  | (0, b)     | (d, d)   |\n",
    "\n",
    "b = 10  # benefit from corrupt strategy\n",
    "c = 5   # cost of corrupt strategy\n",
    "d = 8   # benefit from non-corrupt strategy\n",
    "\n",
    "payoff_matrix = {\n",
    "    ('C', 'C'): (b-c, b-c),\n",
    "    ('C', 'NC'): (b, 0),\n",
    "    ('NC', 'C'): (0, b),\n",
    "    ('NC', 'NC'): (d, d)\n",
    "}"
   ]
  },
  {
   "cell_type": "markdown",
   "metadata": {},
   "source": [
    "## Policy simulation"
   ]
  },
  {
   "cell_type": "code",
   "execution_count": 9,
   "metadata": {},
   "outputs": [],
   "source": [
    "# define policy interventions and their impact on the payoff matrix\n",
    "policy_interventions = {\n",
    "    'Increase Penalties': {'c': 10},                # increase penalties for corruption\n",
    "    'Improve Government Services': {'d': 12},       # improve government services\n",
    "    'Strengthen Political Stability': {'b': 8},     # reduce the benefit of corruption\n",
    "    'Enhance Regulatory Framework': {'d': 14},      # enhance regulatory quality\n",
    "    'Enforce Rule of Law': {'c': 12},               # enforce rule of law\n",
    "    'Promote Democratic Participation': {'d': 16}   # promote democratic participation\n",
    "}"
   ]
  },
  {
   "cell_type": "code",
   "execution_count": 10,
   "metadata": {},
   "outputs": [],
   "source": [
    "def simulate_policy(policy, num_iterations=100):\n",
    "    \"\"\"Simulate the evolution of strategies over time given a policy intervention.\"\"\"\n",
    "    results = {}\n",
    "\n",
    "    # update the payoff matrix based on the policy intervention parameters \n",
    "    # use default values if parameters are not provided in the policy\n",
    "    b_new = policy.get('b', b)\n",
    "    c_new = policy.get('c', c)\n",
    "    d_new = policy.get('d', d)\n",
    "    \n",
    "    new_payoff_matrix = {\n",
    "        ('C', 'C'): (b_new-c_new, b_new-c_new),\n",
    "        ('C', 'NC'): (b_new, 0),\n",
    "        ('NC', 'C'): (0, b_new),\n",
    "        ('NC', 'NC'): (d_new, d_new)\n",
    "    }\n",
    "    \n",
    "    for country in players:\n",
    "        # random initial strategy distribution\n",
    "        strategy_distribution = {'C': np.random.uniform(0, 1), 'NC': np.random.uniform(0, 1)}\n",
    "        total_initial = strategy_distribution['C'] + strategy_distribution['NC']\n",
    "        strategy_distribution = {k: v/total_initial for k, v in strategy_distribution.items()}        \n",
    "\n",
    "        # simulate the evolution of strategies over time\n",
    "        for _ in range(num_iterations):\n",
    "            next_distribution = {'C': 0, 'NC': 0}\n",
    "            for strategy in strategies:\n",
    "                for opponent_strategy in strategies:\n",
    "                    payoff = new_payoff_matrix[(strategy, opponent_strategy)]\n",
    "                    next_distribution[strategy] += strategy_distribution[opponent_strategy] * payoff[strategy == 'NC']\n",
    "            total = sum(next_distribution.values())\n",
    "            if total == 0:\n",
    "                next_distribution = {'C': 0.5, 'NC': 0.5}\n",
    "            else:\n",
    "                next_distribution = {k: v/total for k, v in next_distribution.items()}\n",
    "            strategy_distribution = next_distribution\n",
    "        results[country] = strategy_distribution\n",
    "    \n",
    "    return results"
   ]
  },
  {
   "cell_type": "code",
   "execution_count": 11,
   "metadata": {},
   "outputs": [],
   "source": [
    "# define path for analysis results\n",
    "results_path = Path('results')\n",
    "results_path.mkdir(parents=True, exist_ok=True)"
   ]
  },
  {
   "cell_type": "code",
   "execution_count": 12,
   "metadata": {},
   "outputs": [],
   "source": [
    "# apply each policy and store the results\n",
    "simulation_results = {}\n",
    "for policy_name, policy_params in policy_interventions.items():\n",
    "    simulation_results[policy_name] = simulate_policy(policy_params)\n",
    "\n",
    "# save the simulation results to a JSON file\n",
    "simulation_results_path = f'{results_path}/simulation_results.json'\n",
    "with open(simulation_results_path, 'w') as f:\n",
    "    json.dump(simulation_results, f, indent=4)"
   ]
  },
  {
   "cell_type": "markdown",
   "metadata": {},
   "source": [
    "## Validate results"
   ]
  },
  {
   "cell_type": "code",
   "execution_count": 13,
   "metadata": {},
   "outputs": [],
   "source": [
    "def normalize_simulated_cpi(simulated_cpi, real_cpi_mean, real_cpi_std):\n",
    "    \"\"\"Normalize the simulated CPI scores based on the real-world data.\"\"\"\n",
    "    return (simulated_cpi - real_cpi_mean) / real_cpi_std"
   ]
  },
  {
   "cell_type": "code",
   "execution_count": 14,
   "metadata": {},
   "outputs": [],
   "source": [
    "def validate_results(simulation_results, val_scores):\n",
    "    \"\"\"Validate the simulation results against real-world data.\"\"\"\n",
    "    validation_results = {}\n",
    "\n",
    "    # compute the mean and standard deviation of the real CPI scores\n",
    "    real_cpi_mean = val_scores['CPI Score 2023'].mean()\n",
    "    real_cpi_std = val_scores['CPI Score 2023'].std()\n",
    "\n",
    "    for policy_name, results in simulation_results.items():\n",
    "        correlation = {}\n",
    "        for country, distribution in results.items():\n",
    "            if country in val_scores.index:\n",
    "                real_cpi = val_scores.loc[country, 'CPI Score 2023']\n",
    "                simulated_cpi = distribution['NC']  # assuming NC strategy correlates with higher CPI scores\n",
    "                normalized_simulated_cpi = normalize_simulated_cpi(simulated_cpi, real_cpi_mean, real_cpi_std)\n",
    "                correlation[country] = (real_cpi, normalized_simulated_cpi)\n",
    "        \n",
    "        validation_results[policy_name] = correlation\n",
    "    return validation_results"
   ]
  },
  {
   "cell_type": "code",
   "execution_count": 15,
   "metadata": {},
   "outputs": [
    {
     "name": "stdout",
     "output_type": "stream",
     "text": [
      "Correlation coefficient for different policy interventions:\n",
      "  Increase Penalties: -2.154618548609084e-17\n",
      "  Improve Government Services: 0.01003282362607112\n",
      "  Strengthen Political Stability: -2.154618548609084e-17\n",
      "  Enhance Regulatory Framework: 0.0624137921771738\n",
      "  Enforce Rule of Law: -2.154618548609084e-17\n",
      "  Promote Democratic Participation: 0.03089189152997201\n"
     ]
    }
   ],
   "source": [
    "# extract real-world data (CPI scores) for validation\n",
    "val_scores = data[['Country / Territory', 'CPI Score 2023']].drop_duplicates().set_index('Country / Territory')\n",
    "validation_results = validate_results(simulation_results, val_scores=val_scores)\n",
    "\n",
    "# calculate statistical measures (e.g., correlation coefficient) for validation\n",
    "print(f'Correlation coefficient for different policy interventions:')\n",
    "for policy_name, correlations in validation_results.items():\n",
    "    real_cpis, normalized_simulated_cpis = zip(*correlations.values())\n",
    "    correlation_coefficient = np.corrcoef(real_cpis, normalized_simulated_cpis)[0, 1]\n",
    "    print(f'  {policy_name}: {correlation_coefficient}')"
   ]
  },
  {
   "cell_type": "markdown",
   "metadata": {},
   "source": [
    "## Visualization"
   ]
  },
  {
   "cell_type": "code",
   "execution_count": 16,
   "metadata": {},
   "outputs": [],
   "source": [
    "def plot_policy_impact(simulation_results, original_data):\n",
    "    for policy_name, simulated_data in simulation_results.items():\n",
    "        countries = list(simulated_data.keys())\n",
    "        nc_strategies = [simulated_data[country]['NC'] for country in countries]\n",
    "        real_cpis = [original_data.loc[country, 'CPI Score 2023'] for country in countries if country in original_data.index]\n",
    "        \n",
    "        plt.figure(figsize=(10, 6))\n",
    "        plt.scatter(real_cpis, nc_strategies)\n",
    "        plt.xlabel('Real CPI Scores')\n",
    "        plt.ylabel('Simulated NC Strategy Proportion')\n",
    "        plt.title(f'Simulation Results for Policy: {policy_name}')\n",
    "        plt.show()"
   ]
  },
  {
   "cell_type": "code",
   "execution_count": 17,
   "metadata": {},
   "outputs": [],
   "source": [
    "def plot_policy_impact(simulation_results, original_data, real_cpi_mean, real_cpi_std, path_to_save):\n",
    "    for policy_name, simulated_data in simulation_results.items():\n",
    "        countries = list(simulated_data.keys())\n",
    "        nc_strategies = [simulated_data[country]['NC'] for country in countries]\n",
    "        real_cpis = [original_data.loc[country, 'CPI Score 2023'] for country in countries if country in original_data.index]\n",
    "        \n",
    "        normalized_nc_strategies = [(nc - real_cpi_mean) / real_cpi_std for nc in nc_strategies]\n",
    "        \n",
    "        plt.figure(figsize=(10, 6))\n",
    "        plt.scatter(real_cpis, normalized_nc_strategies)\n",
    "        plt.plot([min(real_cpis), max(real_cpis)], [min(real_cpis), max(real_cpis)], 'r--')\n",
    "        plt.xlabel('Real CPI Scores')\n",
    "        plt.ylabel('Normalized Simulated NC Strategy Proportion')\n",
    "        plt.title(f'Simulation Results for Policy: {policy_name}')\n",
    "        \n",
    "        plt.savefig(f'{path_to_save}/{policy_name}.png')\n",
    "        plt.close()"
   ]
  },
  {
   "cell_type": "code",
   "execution_count": 18,
   "metadata": {},
   "outputs": [],
   "source": [
    "real_cpi_mean = val_scores['CPI Score 2023'].mean()\n",
    "real_cpi_std = val_scores['CPI Score 2023'].std()\n",
    "\n",
    "path_to_save = Path('results', 'plots')\n",
    "path_to_save.mkdir(parents=True, exist_ok=True)\n",
    "\n",
    "plot_policy_impact(simulation_results, val_scores, real_cpi_mean, real_cpi_std, path_to_save)"
   ]
  }
 ],
 "metadata": {
  "kernelspec": {
   "display_name": "Python 3 (ipykernel)",
   "language": "python",
   "name": "python3"
  },
  "language_info": {
   "codemirror_mode": {
    "name": "ipython",
    "version": 3
   },
   "file_extension": ".py",
   "mimetype": "text/x-python",
   "name": "python",
   "nbconvert_exporter": "python",
   "pygments_lexer": "ipython3",
   "version": "3.9.4"
  }
 },
 "nbformat": 4,
 "nbformat_minor": 2
}
