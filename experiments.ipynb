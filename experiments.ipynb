{
 "cells": [
  {
   "cell_type": "code",
   "execution_count": 1,
   "metadata": {},
   "outputs": [],
   "source": [
    "import json\n",
    "from pathlib import Path\n",
    "import pandas as pd\n",
    "import matplotlib.pyplot as plt"
   ]
  },
  {
   "cell_type": "code",
   "execution_count": 2,
   "metadata": {},
   "outputs": [],
   "source": [
    "path_to_data = 'data'\n",
    "path_to_metadata = 'metadata'\n",
    "\n",
    "path_to_wgi_data = f'{path_to_data}/wgi'\n",
    "path_to_wgi_metadata = f'{path_to_metadata}/wgi'\n",
    "\n",
    "path_to_cpi_data = f'{path_to_data}/cpi'\n",
    "path_to_cpi_metadata = f'{path_to_metadata}/cpi'"
   ]
  },
  {
   "cell_type": "code",
   "execution_count": 3,
   "metadata": {},
   "outputs": [],
   "source": [
    "wgi_paths = {\n",
    "    'country_metadata': f'{path_to_wgi_data}/country_metadata.csv',\n",
    "    'series_metadata': f'{path_to_wgi_data}/series_metadata.csv',\n",
    "    'wgi_sample_data': f'{path_to_wgi_data}/wgi_sample_data.csv',\n",
    "    'wgi_sample_metadata': f'{path_to_wgi_data}/wgi_sample_metadata.csv'\n",
    "}\n",
    "\n",
    "cpi_paths = {\n",
    "    'global_scores': f'{path_to_cpi_data}/global_scores.csv',\n",
    "    'historical_scores': f'{path_to_cpi_data}/historical_scores.csv',\n",
    "    'time_series': f'{path_to_cpi_data}/time_series.csv'\n",
    "}"
   ]
  },
  {
   "cell_type": "code",
   "execution_count": 4,
   "metadata": {},
   "outputs": [],
   "source": [
    "def explore_data(name, path, dir, sample=False):\n",
    "    data = pd.read_csv(path, header=0)\n",
    "    result = {\n",
    "        'Dataset': name,\n",
    "        'Shape': data.shape,\n",
    "        'Columns': data.columns.tolist(),\n",
    "        'Describe': data.describe().to_dict()\n",
    "    }\n",
    "\n",
    "    if sample:\n",
    "        result.update({\n",
    "            'Head': data.head().to_dict(),\n",
    "            'Tail': data.tail().to_dict()\n",
    "        })\n",
    "\n",
    "    dir = Path(dir)\n",
    "    dir.mkdir(parents=True, exist_ok=True)\n",
    "    \n",
    "    with open(Path(dir, f'{name}.json'), 'w') as f:\n",
    "        json.dump(result, f, indent=4)"
   ]
  },
  {
   "cell_type": "code",
   "execution_count": 10,
   "metadata": {},
   "outputs": [],
   "source": [
    "for name, path in wgi_paths.items():\n",
    "    explore_data(name, path, dir=path_to_wgi_metadata)"
   ]
  },
  {
   "cell_type": "code",
   "execution_count": 11,
   "metadata": {},
   "outputs": [],
   "source": [
    "for name, path in cpi_paths.items():\n",
    "    explore_data(name, path, dir=path_to_cpi_metadata)"
   ]
  },
  {
   "cell_type": "code",
   "execution_count": 12,
   "metadata": {},
   "outputs": [],
   "source": [
    "cpi_columns = [\n",
    "    \"Country / Territory\",\n",
    "    \"ISO3\",\n",
    "    \"CPI score\"\n",
    "]\n",
    "\n",
    "wgi_columns = [\n",
    "    \"Control of Corruption: Estimate\",\n",
    "    \"Government Effectiveness: Estimate\",\n",
    "    \"Rule of Law: Estimate\",\n",
    "    \"Political Stability and Absence of Violence/Terrorism: Estimate\"\n",
    "]\n",
    "\n",
    "wgi_metadata_columns = [\n",
    "    \"ISO3\",\n",
    "    \"Income Group\",\n",
    "    \"Region\"\n",
    "]"
   ]
  },
  {
   "cell_type": "code",
   "execution_count": 13,
   "metadata": {},
   "outputs": [],
   "source": [
    "def subset(data, substrings):\n",
    "    \"\"\"\n",
    "    Given a dataframe `data`, subset it to the columns that contain any of the `substrings`.\n",
    "    \"\"\"\n",
    "    matched_columns = [col for col in data.columns if any(sub in col for sub in substrings)]\n",
    "    return data[matched_columns]"
   ]
  }
 ],
 "metadata": {
  "kernelspec": {
   "display_name": "Python 3 (ipykernel)",
   "language": "python",
   "name": "python3"
  },
  "language_info": {
   "codemirror_mode": {
    "name": "ipython",
    "version": 3
   },
   "file_extension": ".py",
   "mimetype": "text/x-python",
   "name": "python",
   "nbconvert_exporter": "python",
   "pygments_lexer": "ipython3",
   "version": "3.9.4"
  }
 },
 "nbformat": 4,
 "nbformat_minor": 2
}
